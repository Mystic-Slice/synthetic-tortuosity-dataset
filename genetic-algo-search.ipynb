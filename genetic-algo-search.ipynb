{
 "cells": [
  {
   "cell_type": "code",
   "execution_count": null,
   "id": "f5cfab1d",
   "metadata": {},
   "outputs": [],
   "source": [
    "import pandas as pd\n",
    "import random\n",
    "import numpy as np\n",
    "import sys\n",
    "import os\n",
    "import shutil\n",
    "import glob\n",
    "\n",
    "from deap import base\n",
    "from deap import creator\n",
    "from deap import tools\n",
    "from deap import algorithms\n",
    "\n",
    "from PIL import Image\n",
    "from skimage import morphology\n",
    "import matplotlib.pyplot as plt\n",
    "from skan import draw\n",
    "from skan.csr import skeleton_to_csgraph\n",
    "from skan import Skeleton, summarize\n",
    "from skan.pre import threshold"
   ]
  },
  {
   "cell_type": "code",
   "execution_count": null,
   "id": "9901aa0a",
   "metadata": {},
   "outputs": [],
   "source": [
    "props_ranges = {\n",
    "    # Image configuration\n",
    "    \"GRID_SIZE\": [500],\n",
    "    \"ANGLE_LOWER_BOUND\": list(range(1, 30)),\n",
    "    \"ANGLE_UPPER_BOUND\": list(range(30, 90)),\n",
    "    \"TORTUOUS_MOVEMENT_LENGTH_LIMITER\": list(np.arange(0.1, 1.1, 0.1)),\n",
    "    \"TORTUOUS_PROBABILITY\": list(np.arange(0.1, 1.1, 0.1)),\n",
    "    \"MOVEMENT_LENGTH_LIMITER\": list(np.arange(0.1, 1.1, 0.1)),\n",
    "    \"NUM_WALKERS\": list(range(1, 21)),\n",
    "    \"MAX_MOVES\": list(range(1, 26)),\n",
    "    \"WALKER_MATURITY_STEPS\": list(range(10)),\n",
    "    \"WALKER_INITIAL_REPRODUCTION_PROBABILITY\": list(np.arange(0.1, 1.1, 0.1)),\n",
    "    \"WALKER_CHILD_REPRODUCTION_PROBABILITY_MULTIPLIER\": list(np.arange(0.1, 5.1, 0.1)),\n",
    "    \"WALKER_INITIAL_DEATH_PROBABILITY\": list(np.arange(0, 1, 0.001)),\n",
    "    \"WALKER_CHILD_DEATH_PROBABILITY_MULTIPLIER\": list(np.arange(1, 600, 1)),\n",
    "    \"WALKER_INITIAL_PATH_WIDTH\": [0.005],\n",
    "    \"WALKER_PATH_WIDTH_DECAY\": [0.01],\n",
    "    \"VECTOR_FIELD_WEIGHT\": list(np.arange(0.1, 1.1, 0.05)),\n",
    "    \"MIDDLE_LINE_WEIGHT\": list(np.arange(0.1, 1.1, 0.05)),\n",
    "    \"SINK_STRENGTH\": list(np.arange(1, 10, 0.5)),\n",
    "}"
   ]
  },
  {
   "cell_type": "code",
   "execution_count": null,
   "id": "8f34b5ba",
   "metadata": {},
   "outputs": [],
   "source": [
    "def create_individual(cls):    \n",
    "    individual = {}\n",
    "    for (attr, values) in props_ranges.items():\n",
    "        individual[attr] = np.random.choice(values)\n",
    "        \n",
    "    return cls(individual)"
   ]
  },
  {
   "cell_type": "code",
   "execution_count": null,
   "id": "c35c1a17",
   "metadata": {},
   "outputs": [],
   "source": [
    "def open_and_convert_to_grayscale_np(path):\n",
    "    img = Image.open(path)\n",
    "    img = img.convert('L')\n",
    "    img = np.asarray(img)\n",
    "    smooth_radius = 0.1\n",
    "    threshold_radius = 10\n",
    "    img = threshold(img, sigma=smooth_radius, radius=threshold_radius)\n",
    "    return img"
   ]
  },
  {
   "cell_type": "code",
   "execution_count": null,
   "id": "5607355b",
   "metadata": {},
   "outputs": [],
   "source": [
    "def get_info_image(image_path):\n",
    "    img = open_and_convert_to_grayscale_np(image_path)\n",
    "    skeleton = morphology.skeletonize(img)\n",
    "    skeleton = Skeleton(skeleton)\n",
    "    branch_data = summarize(skeleton)\n",
    "    data = {\n",
    "        \"mean_branch_length\": branch_data[\"branch-distance\"].mean(),\n",
    "        \"num_branches\": branch_data[\"branch-distance\"].count(),\n",
    "        **{f\"branch_types_{type}\": freq for (type, freq) in branch_data[\"branch-type\"].value_counts().to_dict().items()},\n",
    "    }\n",
    "    return skeleton, data\n",
    "\n",
    "    "
   ]
  },
  {
   "cell_type": "code",
   "execution_count": null,
   "id": "c0322688",
   "metadata": {},
   "outputs": [],
   "source": [
    "def get_metrics(df):\n",
    "    return [\n",
    "        df['mean_branch_length'].mean(),\n",
    "        df['num_branches'].mean(),\n",
    "#         (df['branch_types_0']/df['num_branches']).mean(),\n",
    "#         (df['branch_types_1']/df['num_branches']).mean(),\n",
    "#         (df['branch_types_2']/df['num_branches']).mean(),\n",
    "#         (df['branch_types_3']/df['num_branches']).mean()\n",
    "    ]"
   ]
  },
  {
   "cell_type": "code",
   "execution_count": null,
   "id": "95dd5f5e",
   "metadata": {},
   "outputs": [],
   "source": [
    "def fitness_error(individual):\n",
    "    with open(\"config.py\", \"w\") as f:\n",
    "        for (attr, value) in individual.items():\n",
    "            print(attr, \"=\", value, file=f)\n",
    "            \n",
    "    shutil.rmtree(\"images\", ignore_errors=True)\n",
    "    os.system(\"python main.py\")\n",
    "    \n",
    "    GENERATED_IMAGES_PATH = glob.glob(\"../SyntheticDataset/images/*/*.png\")    \n",
    "    generated_d = {}\n",
    "    for img_path in GENERATED_IMAGES_PATH:\n",
    "        skeleton, data = get_info_image(img_path)\n",
    "        data = {\n",
    "            \"type\": \"generated\", \n",
    "            **data\n",
    "        }\n",
    "        generated_d[img_path] = data\n",
    "    generated_df = pd.DataFrame.from_dict(generated_d, orient='index')\n",
    "    generated_df['filename'] = generated_df.index\n",
    "    generated_df.reset_index(drop=True, inplace=True)\n",
    "    generated_df.fillna(0, inplace=True)\n",
    "        \n",
    "    curr_metrics = get_metrics(generated_df)\n",
    "    \n",
    "    with open(\"../SkeletonAnalysis/original_metrics.txt\", \"r\") as f:\n",
    "        original_metrics = list([float(line.strip()) for line in f])\n",
    "        \n",
    "    error = 0\n",
    "    for (m1, m2) in zip(curr_metrics, original_metrics):\n",
    "        error += ((abs(m2 - m1)/abs(m1)) ** 2)\n",
    "    return error,\n",
    "        "
   ]
  },
  {
   "cell_type": "code",
   "execution_count": null,
   "id": "49ec1719",
   "metadata": {},
   "outputs": [],
   "source": [
    "def crossover(ind1, ind2):\n",
    "    child1 = {}\n",
    "    child2 = {}\n",
    "    for (attr, value) in ind1.items():\n",
    "        if random.random() > 0.5:\n",
    "            child1[attr] = value\n",
    "            child2[attr] = ind2[attr]\n",
    "        else:\n",
    "            child1[attr] = ind2[attr]\n",
    "            child2[attr] = value\n",
    "    return creator.Individual(child1), creator.Individual(child2)"
   ]
  },
  {
   "cell_type": "code",
   "execution_count": null,
   "id": "d1da9c99",
   "metadata": {},
   "outputs": [],
   "source": [
    "def mutate(individual):\n",
    "    # attr = random.choice(list(individual.keys()))\n",
    "    # individual[attr] = np.random.choice(props_ranges[attr])\n",
    "    for attr in individual.keys():\n",
    "        if random.random() < 0.2:\n",
    "            individual[attr] = np.random.choice(props_ranges[attr])\n",
    "    return individual,"
   ]
  },
  {
   "cell_type": "code",
   "execution_count": null,
   "id": "983535a1",
   "metadata": {},
   "outputs": [],
   "source": [
    "creator.create(\"Fitness\", base.Fitness, weights=(-1.0,))\n",
    "creator.create(\"Individual\", dict, fitness=creator.Fitness)"
   ]
  },
  {
   "cell_type": "code",
   "execution_count": null,
   "id": "d3744e10",
   "metadata": {},
   "outputs": [],
   "source": [
    "toolbox = base.Toolbox()"
   ]
  },
  {
   "cell_type": "code",
   "execution_count": null,
   "id": "a7bb35f6",
   "metadata": {},
   "outputs": [],
   "source": [
    "toolbox.register(\"individual\", create_individual, creator.Individual)"
   ]
  },
  {
   "cell_type": "code",
   "execution_count": null,
   "id": "1ca0a394",
   "metadata": {},
   "outputs": [],
   "source": [
    "toolbox.register(\"population\", tools.initRepeat, list, toolbox.individual)"
   ]
  },
  {
   "cell_type": "code",
   "execution_count": null,
   "id": "5e34978a",
   "metadata": {},
   "outputs": [],
   "source": [
    "toolbox.register(\"evaluate\", fitness_error)\n",
    "toolbox.register(\"mate\", crossover)\n",
    "toolbox.register(\"mutate\", mutate)\n",
    "toolbox.register(\"select\", tools.selNSGA2)"
   ]
  },
  {
   "cell_type": "code",
   "execution_count": null,
   "id": "d43fe786",
   "metadata": {},
   "outputs": [],
   "source": [
    "%%time\n",
    "random.seed(64)\n",
    "NGEN = 20\n",
    "NUM_INDS = 50\n",
    "CXPB = 0.7\n",
    "MUTPB = 0.2\n",
    "\n",
    "pop = toolbox.population(n=NUM_INDS)\n",
    "hof = tools.HallOfFame(maxsize=3)\n",
    "stats = tools.Statistics(lambda ind: ind.fitness.values)\n",
    "stats.register(\"avg\", np.mean, axis=0)\n",
    "stats.register(\"std\", np.std, axis=0)\n",
    "stats.register(\"min\", np.min, axis=0)\n",
    "stats.register(\"max\", np.max, axis=0)\n",
    "\n",
    "algorithms.eaSimple(pop, toolbox, CXPB, MUTPB, NGEN, stats, halloffame=hof, verbose=True)"
   ]
  },
  {
   "cell_type": "code",
   "execution_count": null,
   "id": "d67a3a97",
   "metadata": {},
   "outputs": [],
   "source": [
    "print(pop)\n",
    "print(stats)\n",
    "print(hof)"
   ]
  },
  {
   "cell_type": "code",
   "execution_count": null,
   "id": "d06cee9b",
   "metadata": {},
   "outputs": [],
   "source": [
    "best = hof[0]"
   ]
  },
  {
   "cell_type": "code",
   "execution_count": null,
   "id": "feb1bb9b",
   "metadata": {},
   "outputs": [],
   "source": [
    "with open(\"config_best.py\", \"w\") as f:\n",
    "    for (attr, value) in best.items():\n",
    "        print(attr, \"=\", value, file=f)"
   ]
  },
  {
   "cell_type": "code",
   "execution_count": null,
   "id": "dbd83a2a",
   "metadata": {},
   "outputs": [],
   "source": [
    "best"
   ]
  },
  {
   "cell_type": "code",
   "execution_count": null,
   "id": "54ce5dfa",
   "metadata": {},
   "outputs": [],
   "source": [
    "fitness_error(best)"
   ]
  },
  {
   "cell_type": "code",
   "execution_count": null,
   "id": "7c7cd7e1",
   "metadata": {},
   "outputs": [],
   "source": []
  }
 ],
 "metadata": {
  "kernelspec": {
   "display_name": "Python 3 (ipykernel)",
   "language": "python",
   "name": "python3"
  },
  "language_info": {
   "codemirror_mode": {
    "name": "ipython",
    "version": 3
   },
   "file_extension": ".py",
   "mimetype": "text/x-python",
   "name": "python",
   "nbconvert_exporter": "python",
   "pygments_lexer": "ipython3",
   "version": "3.9.18"
  }
 },
 "nbformat": 4,
 "nbformat_minor": 5
}
